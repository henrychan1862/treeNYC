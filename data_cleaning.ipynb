{
 "cells": [
  {
   "attachments": {},
   "cell_type": "markdown",
   "metadata": {},
   "source": [
    "# Initialise Client API"
   ]
  },
  {
   "cell_type": "markdown",
   "metadata": {},
   "source": [
    "Indicate the project used for making query"
   ]
  },
  {
   "cell_type": "code",
   "execution_count": 1,
   "metadata": {},
   "outputs": [],
   "source": [
    "from google.cloud import bigquery\n",
    "import pandas as pd   # for parsing query into dataframe\n",
    "client = bigquery.Client(project=\"treenyc-384104\") # mark the created project id"
   ]
  },
  {
   "attachments": {},
   "cell_type": "markdown",
   "metadata": {},
   "source": [
    "# Query"
   ]
  },
  {
   "cell_type": "markdown",
   "metadata": {},
   "source": [
    "Write the query using SQL"
   ]
  },
  {
   "cell_type": "code",
   "execution_count": 2,
   "metadata": {},
   "outputs": [],
   "source": [
    "QUERY = (   # query in SQL style\n",
    "    \"\"\"\n",
    "    SELECT *\n",
    "    FROM `bigquery-public-data.new_york_trees.tree_census_1995`\n",
    "    LIMIT 10\n",
    "    \"\"\"\n",
    ")"
   ]
  },
  {
   "attachments": {},
   "cell_type": "markdown",
   "metadata": {},
   "source": [
    "Run the main query and get as a pandas dataframe"
   ]
  },
  {
   "cell_type": "code",
   "execution_count": 3,
   "metadata": {},
   "outputs": [
    {
     "name": "stdout",
     "output_type": "stream",
     "text": [
      "   recordid                 address house_number           street   \n",
      "0     21111            700 W 123 ST        700.0         W 123 ST  \\\n",
      "1     21116            700 W 123 ST        700.0         W 123 ST   \n",
      "2      3219  53-054 WASHINGTON SQ W         None  WASHINGTON SQ W   \n",
      "3     32660            870/860 1 AV         None             1 AV   \n",
      "4     32661            870/860 1 AV         None             1 AV   \n",
      "5     32662            870/860 1 AV         None             1 AV   \n",
      "6     32663            870/860 1 AV         None             1 AV   \n",
      "7      3570             767 E 58 ST        767.0          E 58 ST   \n",
      "8      3571             767 E 58 ST        767.0          E 58 ST   \n",
      "9     32664            870/860 1 AV         None             1 AV   \n",
      "\n",
      "   zip_original  cb_original    site species  diameter     status  ...   \n",
      "0             0            0  Across    QUPA        15       Poor  ...  \\\n",
      "1             0            0  Across    QUPA        13       Good  ...   \n",
      "2             0            0  Across    QUPA         7       Good  ...   \n",
      "3             0            0  Across    QUPH        11       Good  ...   \n",
      "4             0            0  Across    QUPH        11       Good  ...   \n",
      "5             0            0  Across    QUPH         6       Good  ...   \n",
      "6             0            0  Across    QUPH         6       Good  ...   \n",
      "7             0            0   Front    GLTR        10  Excellent  ...   \n",
      "8             0            0   Front    GLTR         9  Excellent  ...   \n",
      "9             0            0  Across    QUPH         6       Good  ...   \n",
      "\n",
      "  latitude cb_new zip_new censustract_2010  censusblock_2010  nta_2010   \n",
      "0      1.0      0       0             None              None   Unknown  \\\n",
      "1      1.0      0       0             None              None   Unknown   \n",
      "2      1.0      0       0             None              None   Unknown   \n",
      "3      1.0      0       0             None              None   Unknown   \n",
      "4      1.0      0       0             None              None   Unknown   \n",
      "5      1.0      0       0             None              None   Unknown   \n",
      "6      1.0      0       0             None              None   Unknown   \n",
      "7      1.0      0       0             None              None   Unknown   \n",
      "8      1.0      0       0             None              None   Unknown   \n",
      "9      1.0      0       0             None              None   Unknown   \n",
      "\n",
      "   segmentid   spc_common              spc_latin    location  \n",
      "0          0     OAK, PIN      QUERCUS PALUSTRIS  (1.0, 1.0)  \n",
      "1          0     OAK, PIN      QUERCUS PALUSTRIS  (1.0, 1.0)  \n",
      "2          0     OAK, PIN      QUERCUS PALUSTRIS  (1.0, 1.0)  \n",
      "3          0  OAK, WILLOW        QUERCUS PHELLOS  (1.0, 1.0)  \n",
      "4          0  OAK, WILLOW        QUERCUS PHELLOS  (1.0, 1.0)  \n",
      "5          0  OAK, WILLOW        QUERCUS PHELLOS  (1.0, 1.0)  \n",
      "6          0  OAK, WILLOW        QUERCUS PHELLOS  (1.0, 1.0)  \n",
      "7          0  HONEYLOCUST  GLEDITSIA TRIACANTHOS  (1.0, 1.0)  \n",
      "8          0  HONEYLOCUST  GLEDITSIA TRIACANTHOS  (1.0, 1.0)  \n",
      "9          0  OAK, WILLOW        QUERCUS PHELLOS  (1.0, 1.0)  \n",
      "\n",
      "[10 rows x 27 columns]\n"
     ]
    }
   ],
   "source": [
    "query = client.query(QUERY) # create query\n",
    "df = query.to_dataframe()   # convert into pandas dataframe\n",
    "print(df)"
   ]
  }
 ],
 "metadata": {
  "kernelspec": {
   "display_name": ".venv",
   "language": "python",
   "name": "python3"
  },
  "language_info": {
   "codemirror_mode": {
    "name": "ipython",
    "version": 3
   },
   "file_extension": ".py",
   "mimetype": "text/x-python",
   "name": "python",
   "nbconvert_exporter": "python",
   "pygments_lexer": "ipython3",
   "version": "3.10.6"
  },
  "orig_nbformat": 4
 },
 "nbformat": 4,
 "nbformat_minor": 2
}
