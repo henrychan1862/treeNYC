{
 "cells": [
  {
   "attachments": {},
   "cell_type": "markdown",
   "metadata": {},
   "source": [
    "# Libraries"
   ]
  },
  {
   "cell_type": "code",
   "execution_count": 1,
   "metadata": {},
   "outputs": [],
   "source": [
    "import pandas as pd   # for parsing query into dataframe\n",
    "import time"
   ]
  },
  {
   "attachments": {},
   "cell_type": "markdown",
   "metadata": {},
   "source": [
    "# Initialise Client API"
   ]
  },
  {
   "cell_type": "markdown",
   "metadata": {},
   "source": [
    "Indicate the project used for making query"
   ]
  },
  {
   "cell_type": "code",
   "execution_count": 2,
   "metadata": {},
   "outputs": [],
   "source": [
    "from google.cloud import bigquery\n",
    "client = bigquery.Client(project=\"treenyc-384104\") # mark the created project id"
   ]
  },
  {
   "attachments": {},
   "cell_type": "markdown",
   "metadata": {},
   "source": [
    "# Retrieve Schema"
   ]
  },
  {
   "attachments": {},
   "cell_type": "markdown",
   "metadata": {},
   "source": [
    "Retrieve schemas for each tables to check compatability."
   ]
  },
  {
   "cell_type": "code",
   "execution_count": 3,
   "metadata": {},
   "outputs": [
    {
     "name": "stdout",
     "output_type": "stream",
     "text": [
      "['tree_census_1995', 'tree_census_2005', 'tree_census_2015', 'tree_species']\n"
     ]
    }
   ],
   "source": [
    "# get tables name inside dataset\n",
    "table_names = [table.table_id for table in client.list_tables(\"bigquery-public-data.new_york_trees\")]\n",
    "print(table_names)"
   ]
  },
  {
   "cell_type": "code",
   "execution_count": 3,
   "metadata": {},
   "outputs": [],
   "source": [
    "descrption_dfs = {}\n",
    "for table in client.list_tables(\"bigquery-public-data.new_york_trees\"):\n",
    "    table_schema = client.get_table(table).schema\n",
    "    table_metadata = pd.DataFrame(\n",
    "        {\n",
    "            \"Name\" : [item.name for item in table_schema],\n",
    "            \"Dtype\" : [item.field_type for item in table_schema],\n",
    "            \"Example\" : client.list_rows(table=table, max_results=1).to_dataframe().values.flatten(),\n",
    "            \"Description\":[item.description for item in table_schema],\n",
    "        }\n",
    "    )\n",
    "    with open(f\"meta/{table.table_id}_meta.txt\", 'w') as f:\n",
    "        f.write(table_metadata.to_markdown())\n",
    "        f.close()\n",
    "    descrption_dfs[table.table_id] = table_metadata"
   ]
  },
  {
   "attachments": {},
   "cell_type": "markdown",
   "metadata": {},
   "source": [
    "Count number of rows in tables"
   ]
  },
  {
   "cell_type": "code",
   "execution_count": 4,
   "metadata": {},
   "outputs": [
    {
     "name": "stdout",
     "output_type": "stream",
     "text": [
      "tree_census_1995: 516989\n",
      "tree_census_2005: 592372\n",
      "tree_census_2015: 683788\n",
      "tree_species: 57\n"
     ]
    }
   ],
   "source": [
    "for table in client.list_tables(\"bigquery-public-data.new_york_trees\"):\n",
    "    table = client.get_table(table)\n",
    "    print(f\"{table.table_id}: {table.num_rows}\")"
   ]
  },
  {
   "attachments": {},
   "cell_type": "markdown",
   "metadata": {},
   "source": [
    "# Query"
   ]
  },
  {
   "cell_type": "code",
   "execution_count": 31,
   "metadata": {},
   "outputs": [],
   "source": [
    "def query_to_df(query_script, client=client):\n",
    "    \"\"\"pass a SQL query, return as pandas dataframe\"\"\"\n",
    "    start = time.time()\n",
    "    query = client.query(query_script) # create query\n",
    "    df = query.to_dataframe()   # convert into pandas dataframe\n",
    "    print(f\"Query Time...{time.time()-start:.3}\")  # retrieve query time\n",
    "    print(df.info())\n",
    "\n",
    "    return df"
   ]
  },
  {
   "cell_type": "markdown",
   "metadata": {},
   "source": [
    "Write the query using SQL"
   ]
  },
  {
   "cell_type": "code",
   "execution_count": 40,
   "metadata": {},
   "outputs": [],
   "source": [
    "QUERY = (   # query in SQL style\n",
    "    \"\"\"\n",
    "    SELECT *\n",
    "    FROM `bigquery-public-data.new_york_trees.tree_census_2005`\n",
    "    LIMIT 100\n",
    "    \"\"\"\n",
    ")"
   ]
  },
  {
   "attachments": {},
   "cell_type": "markdown",
   "metadata": {},
   "source": [
    "Run the main query and get as a pandas dataframe"
   ]
  },
  {
   "cell_type": "code",
   "execution_count": 41,
   "metadata": {},
   "outputs": [
    {
     "name": "stdout",
     "output_type": "stream",
     "text": [
      "Query Time...1.92\n",
      "<class 'pandas.core.frame.DataFrame'>\n",
      "RangeIndex: 100 entries, 0 to 99\n",
      "Data columns (total 54 columns):\n",
      " #   Column        Non-Null Count  Dtype  \n",
      "---  ------        --------------  -----  \n",
      " 0   objectid      100 non-null    Int64  \n",
      " 1   cen_year      100 non-null    Int64  \n",
      " 2   tree_dbh      100 non-null    Int64  \n",
      " 3   tree_loc      100 non-null    object \n",
      " 4   pit_type      100 non-null    object \n",
      " 5   soil_lvl      100 non-null    object \n",
      " 6   status        100 non-null    object \n",
      " 7   spc_latin     100 non-null    object \n",
      " 8   spc_common    100 non-null    object \n",
      " 9   vert_other    100 non-null    boolean\n",
      " 10  vert_pgrd     100 non-null    boolean\n",
      " 11  vert_tgrd     100 non-null    boolean\n",
      " 12  vert_wall     100 non-null    boolean\n",
      " 13  horz_blck     100 non-null    boolean\n",
      " 14  horz_grate    100 non-null    boolean\n",
      " 15  horz_plant    100 non-null    boolean\n",
      " 16  horz_other    100 non-null    boolean\n",
      " 17  sidw_crack    100 non-null    boolean\n",
      " 18  sidw_raise    100 non-null    boolean\n",
      " 19  wire_htap     100 non-null    boolean\n",
      " 20  wire_prime    100 non-null    boolean\n",
      " 21  wire_2nd      100 non-null    boolean\n",
      " 22  wire_other    100 non-null    boolean\n",
      " 23  inf_canopy    100 non-null    boolean\n",
      " 24  inf_guard     100 non-null    boolean\n",
      " 25  inf_wires     100 non-null    boolean\n",
      " 26  inf_paving    100 non-null    boolean\n",
      " 27  inf_outlet    100 non-null    boolean\n",
      " 28  inf_shoes     100 non-null    boolean\n",
      " 29  inf_lights    100 non-null    boolean\n",
      " 30  inf_other     100 non-null    boolean\n",
      " 31  trunk_dmg     100 non-null    object \n",
      " 32  zipcode       100 non-null    object \n",
      " 33  zip_city      0 non-null      object \n",
      " 34  cb_num        100 non-null    Int64  \n",
      " 35  borocode      100 non-null    Int64  \n",
      " 36  boroname      100 non-null    object \n",
      " 37  cncldist      100 non-null    Int64  \n",
      " 38  st_assem      100 non-null    Int64  \n",
      " 39  st_senate     100 non-null    Int64  \n",
      " 40  nta           0 non-null      object \n",
      " 41  nta_name      0 non-null      object \n",
      " 42  boro_ct       0 non-null      Int64  \n",
      " 43  x_sp          100 non-null    Int64  \n",
      " 44  y_sp          100 non-null    Int64  \n",
      " 45  objectid_1    100 non-null    Int64  \n",
      " 46  location_1    100 non-null    object \n",
      " 47  state         100 non-null    object \n",
      " 48  latitude      100 non-null    float64\n",
      " 49  longitude     100 non-null    float64\n",
      " 50  census_tract  0 non-null      Int64  \n",
      " 51  bin           0 non-null      Int64  \n",
      " 52  bbl           0 non-null      Int64  \n",
      " 53  address       100 non-null    object \n",
      "dtypes: Int64(15), boolean(22), float64(2), object(15)\n",
      "memory usage: 30.9+ KB\n",
      "None\n"
     ]
    }
   ],
   "source": [
    "df = query_to_df(QUERY)"
   ]
  },
  {
   "attachments": {},
   "cell_type": "markdown",
   "metadata": {},
   "source": [
    "# EDA"
   ]
  },
  {
   "attachments": {},
   "cell_type": "markdown",
   "metadata": {},
   "source": [
    "Explroe with variables of `tree_species`"
   ]
  },
  {
   "cell_type": "code",
   "execution_count": 36,
   "metadata": {},
   "outputs": [
    {
     "name": "stdout",
     "output_type": "stream",
     "text": [
      "species_scientific_name : \n",
      " 57 ['Quercus phellos' 'Cotinus sp.' 'Prunus sargentii' 'Prunus padus'\n",
      " \"Prunus serrulata 'Kwanzan'\"]\n",
      "species_common_name : \n",
      " 57 ['Willow Oak' 'Smoke Tree' 'Sargent Cherry' 'European Birdcherry'\n",
      " 'Japanese Flowering Cherry']\n",
      "form : \n",
      " 4 ['Rounded' 'Upright' 'Pyramidal' 'Vase–Like']\n",
      "growth_rate : \n",
      " 2 ['Slow' 'Medium']\n",
      "fall_color : \n",
      " 13 ['Yellow/Orange' 'Red/Bronze' 'Yellow/Bronze' 'Red/Orange' 'Red']\n",
      "environmental_tolerances : \n",
      " 30 ['Drought and Pollution Tolerant' 'none' 'Shade Tolerant'\n",
      " 'High pH Tolerant' 'Wet Site and Salt Tolerant']\n",
      "location_tolerances : \n",
      " 8 ['Median Tree' 'Small Tree Pit (<3 ft)'\n",
      " 'Median Tree, Small Tree Pit (<3 ft)'\n",
      " 'Small Tree Pit (<3 ft), Narrow Growing Space' 'none']\n",
      "notes_suggested_cultivars : \n",
      " 45 ['Plant Spring Only' \"'Royal Purple' or 'Grace'\"\n",
      " \"'Accolade' is Semi–double Flowering;\"\n",
      " 'One of the First Trees to Leaf Out in the Spring' 'Double–flowering']\n",
      "tree_size : \n",
      " 4 ['Large (Mature Height > 50 ft)' 'Small (Mature Height < 25 ft)'\n",
      " 'Medium (Mature Height 35-50 ft)' 'Intermediate (Mature Height 25-35 ft)']\n",
      "comments : \n",
      " 2 [''\n",
      " 'Asian Long Horn Beetle Quarantine Species – Planting NOT RECOMMENDED in Brooklyn, Manhattan, Queens, and Staten Island']\n"
     ]
    }
   ],
   "source": [
    "tree_species = df.copy()\n",
    "for column in tree_species.columns:\n",
    "    print(column, \":\", \"\\n\",  tree_species[column].nunique(), tree_species[column].unique()[:5])"
   ]
  },
  {
   "cell_type": "code",
   "execution_count": 64,
   "metadata": {},
   "outputs": [
    {
     "name": "stdout",
     "output_type": "stream",
     "text": [
      "objectid : 100 ==> [1091298, 1091299, 1091300, 1091301, 1092323]\n",
      "cen_year : 1 ==> [0]\n",
      "tree_dbh : 21 ==> [7, 6, 5, 20, 10]\n",
      "tree_loc : 5 ==> ['Front', 'Side', 'Assigned', 'Median', 'Across']\n",
      "pit_type : 3 ==> ['Lawn', 'Continuous Pit', 'Sidewalk Pit']\n",
      "soil_lvl : 2 ==> ['Level', 'Above']\n",
      "status : 4 ==> ['Good', 'Excellent', 'Poor', 'Dead']\n",
      "spc_latin : 17 ==> ['UNKNOWN', 'GLEDITSIA TRIACANTHOS', 'PYRUS CALLERYANA', 'QUERCUS PALUSTRIS', 'LIQUIDAMBAR STYRACIFLUA']\n",
      "spc_common : 17 ==> ['UNKNOWN', 'HONEYLOCUST', 'PEAR, CALLERY', 'OAK, PIN', 'SWEETGUM']\n",
      "vert_other : 1 ==> [False]\n",
      "vert_pgrd : 1 ==> [False]\n",
      "vert_tgrd : 2 ==> [False, True]\n",
      "vert_wall : 1 ==> [False]\n",
      "horz_blck : 2 ==> [False, True]\n",
      "horz_grate : 1 ==> [False]\n",
      "horz_plant : 2 ==> [False, True]\n",
      "horz_other : 1 ==> [False]\n",
      "sidw_crack : 2 ==> [False, True]\n",
      "sidw_raise : 2 ==> [False, True]\n",
      "wire_htap : 1 ==> [False]\n",
      "wire_prime : 1 ==> [False]\n",
      "wire_2nd : 1 ==> [False]\n",
      "wire_other : 1 ==> [False]\n",
      "inf_canopy : 1 ==> [False]\n",
      "inf_guard : 1 ==> [False]\n",
      "inf_wires : 1 ==> [False]\n",
      "inf_paving : 1 ==> [False]\n",
      "inf_outlet : 1 ==> [False]\n",
      "inf_shoes : 1 ==> [False]\n",
      "inf_lights : 1 ==> [False]\n",
      "inf_other : 1 ==> [False]\n",
      "trunk_dmg : 4 ==> ['None', 'Trunk Wound', 'Torn Bark', 'Cavity']\n",
      "zipcode : 1 ==> ['0']\n",
      "zip_city : 0 ==> [None]\n",
      "cb_num : 1 ==> [0]\n",
      "borocode : 1 ==> [5]\n",
      "boroname : 1 ==> ['5']\n",
      "cncldist : 1 ==> [0]\n",
      "st_assem : 1 ==> [0]\n",
      "st_senate : 1 ==> [0]\n",
      "nta : 0 ==> [None]\n",
      "nta_name : 0 ==> [None]\n",
      "boro_ct : 0 ==> [<NA>]\n",
      "x_sp : 1 ==> [0]\n",
      "y_sp : 1 ==> [0]\n",
      "objectid_1 : 100 ==> [498925, 498926, 498927, 498928, 499950]\n",
      "location_1 : 1 ==> ['(0.0, 0.0)']\n",
      "state : 1 ==> ['New York']\n",
      "latitude : 1 ==> [0.0]\n",
      "longitude : 1 ==> [0.0]\n",
      "census_tract : 0 ==> [<NA>]\n",
      "bin : 0 ==> [<NA>]\n",
      "bbl : 0 ==> [<NA>]\n",
      "address : 21 ==> ['cememtary SHARROTT AVENUE', 'not listed DITSON STREET', 'not listed not listed', 'NOT LISTED DRUMGOOLE ROAD EAST', 'not listed SLOSSON AVENUE']\n"
     ]
    }
   ],
   "source": [
    "tree_2005 = df.copy()\n",
    "for column in tree_2005.columns:\n",
    "    print(column, \":\", tree_2005[column].nunique(), \"==>\", tree_2005[column].unique().tolist()[:5])"
   ]
  },
  {
   "cell_type": "code",
   "execution_count": null,
   "metadata": {},
   "outputs": [],
   "source": []
  }
 ],
 "metadata": {
  "kernelspec": {
   "display_name": ".venv",
   "language": "python",
   "name": "python3"
  },
  "language_info": {
   "codemirror_mode": {
    "name": "ipython",
    "version": 3
   },
   "file_extension": ".py",
   "mimetype": "text/x-python",
   "name": "python",
   "nbconvert_exporter": "python",
   "pygments_lexer": "ipython3",
   "version": "3.10.6"
  },
  "orig_nbformat": 4
 },
 "nbformat": 4,
 "nbformat_minor": 2
}
