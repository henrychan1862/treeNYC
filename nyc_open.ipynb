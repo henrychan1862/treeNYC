{
 "cells": [
  {
   "cell_type": "markdown",
   "metadata": {},
   "source": [
    "# Import Libraries"
   ]
  },
  {
   "cell_type": "code",
   "execution_count": 24,
   "metadata": {},
   "outputs": [],
   "source": [
    "from urllib import request, parse\n",
    "import pandas as pd"
   ]
  },
  {
   "cell_type": "markdown",
   "metadata": {},
   "source": [
    "# Get Data From Socrata"
   ]
  },
  {
   "cell_type": "markdown",
   "metadata": {},
   "source": [
    "SoQL document can be found [here](https://dev.socrata.com/docs/functions/)"
   ]
  },
  {
   "cell_type": "code",
   "execution_count": 25,
   "metadata": {},
   "outputs": [],
   "source": [
    "def get_from_socrata(endpoint, sql='', fname=None):\n",
    "    print()\n",
    "    (fpath, http_msg) = request.urlretrieve(endpoint+'?$query='+parse.quote(sql), filename=fname)\n",
    "    print(\"File Saved as \", fpath)\n",
    "    print(\"HTTP Message retrieved as below:\", '\\n', http_msg)"
   ]
  },
  {
   "cell_type": "code",
   "execution_count": 33,
   "metadata": {},
   "outputs": [
    {
     "name": "stdout",
     "output_type": "stream",
     "text": [
      "\n",
      "File Saved as  traffic-data/traffic_auto_1.csv\n",
      "HTTP Message retrieved as below: \n",
      " Server: nginx\n",
      "Date: Sun, 23 Jul 2023 13:36:48 GMT\n",
      "Content-Type: text/csv; charset=UTF-8\n",
      "Transfer-Encoding: chunked\n",
      "Connection: close\n",
      "Access-Control-Allow-Origin: *\n",
      "ETag: W/\"YnJhdm8uNDIyNjA5XzNfMzVlU1pOSzBiZThiZDZkRGRLVXg2cGt6ZjUxTTA---gziq_OcxcM2csPGbivd6bRsZA4Rinlw--gzip--gzip\"\n",
      "X-SODA2-Fields: [\"segmentid\",\"street\",\"direction\",\"count_mm\"]\n",
      "X-SODA2-Types: [\"number\",\"text\",\"text\",\"number\"]\n",
      "X-SODA2-Data-Out-Of-Date: false\n",
      "X-SODA2-Truth-Last-Modified: Thu, 29 Dec 2022 21:13:19 GMT\n",
      "X-SODA2-Secondary-Last-Modified: Thu, 29 Dec 2022 21:13:19 GMT\n",
      "Last-Modified: Thu, 29 Dec 2022 21:13:19 GMT\n",
      "Vary: Accept-Encoding\n",
      "Age: 22\n",
      "X-Socrata-Region: aws-us-east-1-fedramp-prod\n",
      "Strict-Transport-Security: max-age=31536000; includeSubDomains\n",
      "X-Socrata-RequestId: 231a5d57804cae8034f5ff2859000127\n",
      "\n",
      "\n"
     ]
    }
   ],
   "source": [
    "# get the automated traffic count dataset\n",
    "endpoint = 'https://data.cityofnewyork.us/resource/7ym2-wayt.csv'\n",
    "sql = 'select segmentid, street, direction, count(mm) \\\n",
    "        where yr = 2015 \\\n",
    "        group by segmentid, street, direction \\\n",
    "        order by segmentid \\\n",
    "        limit 1000'\n",
    "get_from_socrata(endpoint, sql=sql, fname=\"traffic-data/traffic_auto_1.csv\")        "
   ]
  },
  {
   "cell_type": "code",
   "execution_count": 34,
   "metadata": {},
   "outputs": [
    {
     "name": "stdout",
     "output_type": "stream",
     "text": [
      "\n",
      "File Saved as  traffic-data/aadt_1.csv\n",
      "HTTP Message retrieved as below: \n",
      " Server: nginx\n",
      "Date: Sun, 23 Jul 2023 13:37:13 GMT\n",
      "Content-Type: text/csv; charset=UTF-8\n",
      "Transfer-Encoding: chunked\n",
      "Connection: close\n",
      "Access-Control-Allow-Origin: *\n",
      "ETag: W/\"YWxwaGEuODE0OV81XzExNmFsdG9TQ2hLamZDRTJsQV9pWnJTZEpsTUdjWQ---gzioWST2C2uK75E1vRKSgxCtfNC7aP--gzip--gzip\"\n",
      "X-SODA2-Fields: [\"aadt_year\",\"station_id\",\"county\",\"signing\",\"state_route\",\"county_road\",\"road_name\",\"beginning_description\",\"ending_description\",\"municipality\",\"length\",\"fc\",\"ramp\",\"bridge\",\"rr_xing\",\"oneway\",\"count\"]\n",
      "X-SODA2-Types: [\"text\",\"number\",\"text\",\"text\",\"text\",\"text\",\"text\",\"text\",\"text\",\"text\",\"number\",\"number\",\"text\",\"text\",\"text\",\"text\",\"number\"]\n",
      "X-SODA2-Data-Out-Of-Date: false\n",
      "X-SODA2-Truth-Last-Modified: Tue, 04 Feb 2020 22:07:45 GMT\n",
      "X-SODA2-Secondary-Last-Modified: Tue, 04 Feb 2020 22:07:45 GMT\n",
      "Last-Modified: Tue, 04 Feb 2020 22:07:45 GMT\n",
      "Vary: Accept-Encoding\n",
      "Age: 0\n",
      "X-Socrata-Region: aws-us-east-1-fedramp-prod\n",
      "Strict-Transport-Security: max-age=31536000; includeSubDomains\n",
      "X-Socrata-RequestId: bb5de04057d3dd71f3511e0d610d4754\n",
      "\n",
      "\n"
     ]
    }
   ],
   "source": [
    "# get the AADT dataset\n",
    "endpoint = \"https://data.ny.gov/resource/6amx-2pbv.csv\"\n",
    "sql = 'select * where aadt_year = \"2015\"'\n",
    "get_from_socrata(endpoint, sql = sql, fname = \"traffic-data/aadt_1.csv\")"
   ]
  },
  {
   "cell_type": "code",
   "execution_count": 19,
   "metadata": {},
   "outputs": [
    {
     "name": "stdout",
     "output_type": "stream",
     "text": [
      "None\n"
     ]
    }
   ],
   "source": [
    "print(http_msg)"
   ]
  },
  {
   "cell_type": "markdown",
   "metadata": {},
   "source": [
    "# Import  Data"
   ]
  },
  {
   "cell_type": "code",
   "execution_count": 7,
   "metadata": {},
   "outputs": [
    {
     "name": "stdout",
     "output_type": "stream",
     "text": [
      "<class 'pandas.core.frame.DataFrame'>\n",
      "RangeIndex: 10000 entries, 0 to 9999\n",
      "Data columns (total 14 columns):\n",
      " #   Column     Non-Null Count  Dtype \n",
      "---  ------     --------------  ----- \n",
      " 0   requestid  10000 non-null  int64 \n",
      " 1   boro       10000 non-null  object\n",
      " 2   yr         10000 non-null  int64 \n",
      " 3   m          10000 non-null  int64 \n",
      " 4   d          10000 non-null  int64 \n",
      " 5   hh         10000 non-null  int64 \n",
      " 6   mm         10000 non-null  int64 \n",
      " 7   vol        10000 non-null  int64 \n",
      " 8   segmentid  10000 non-null  int64 \n",
      " 9   wktgeom    10000 non-null  object\n",
      " 10  street     10000 non-null  object\n",
      " 11  fromst     10000 non-null  object\n",
      " 12  tost       10000 non-null  object\n",
      " 13  direction  10000 non-null  object\n",
      "dtypes: int64(8), object(6)\n",
      "memory usage: 1.1+ MB\n",
      "None\n",
      "   requestid    boro    yr  m  d  hh  mm  vol  segmentid   \n",
      "0      17976  Queens  2015  2  7  10  30   28     148877  \\\n",
      "1      17976  Queens  2015  2  7  10  45   46     148877   \n",
      "2      17976  Queens  2015  2  7  11   0   40     148877   \n",
      "3      17976  Queens  2015  2  7  11   0  105     156485   \n",
      "4      17976  Queens  2015  2  7  11  15   33     148877   \n",
      "\n",
      "                                         wktgeom     street     fromst   \n",
      "0  POINT (1015922.4098093489 218665.56483070957)  23 AVENUE   Dead End  \\\n",
      "1  POINT (1015922.4098093489 218665.56483070957)  23 AVENUE   Dead End   \n",
      "2  POINT (1015922.4098093489 218665.56483070957)  23 AVENUE   Dead End   \n",
      "3  POINT (1015934.7231410058 218639.46263506316)  23 AVENUE  83 Street   \n",
      "4  POINT (1015922.4098093489 218665.56483070957)  23 AVENUE   Dead End   \n",
      "\n",
      "        tost direction  \n",
      "0  85 Street        WB  \n",
      "1  85 Street        WB  \n",
      "2  85 Street        WB  \n",
      "3  85 Street        EB  \n",
      "4  85 Street        WB  \n"
     ]
    }
   ],
   "source": [
    "traffic = pd.read_csv(\"traffic.csv\")\n",
    "print(traffic.info())\n",
    "print(traffic.head())"
   ]
  },
  {
   "cell_type": "code",
   "execution_count": null,
   "metadata": {},
   "outputs": [],
   "source": []
  }
 ],
 "metadata": {
  "kernelspec": {
   "display_name": ".venv",
   "language": "python",
   "name": "python3"
  },
  "language_info": {
   "codemirror_mode": {
    "name": "ipython",
    "version": 3
   },
   "file_extension": ".py",
   "mimetype": "text/x-python",
   "name": "python",
   "nbconvert_exporter": "python",
   "pygments_lexer": "ipython3",
   "version": "3.11.3"
  },
  "orig_nbformat": 4
 },
 "nbformat": 4,
 "nbformat_minor": 2
}
