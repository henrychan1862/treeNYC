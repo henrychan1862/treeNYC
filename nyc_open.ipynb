{
 "cells": [
  {
   "cell_type": "markdown",
   "metadata": {},
   "source": [
    "# Import Libraries"
   ]
  },
  {
   "cell_type": "code",
   "execution_count": 2,
   "metadata": {},
   "outputs": [],
   "source": [
    "from urllib import request, parse\n",
    "import pandas as pd"
   ]
  },
  {
   "cell_type": "markdown",
   "metadata": {},
   "source": [
    "# Get Data From Socrata"
   ]
  },
  {
   "cell_type": "markdown",
   "metadata": {},
   "source": [
    "SoQL document can be found [here](https://dev.socrata.com/docs/functions/)"
   ]
  },
  {
   "cell_type": "markdown",
   "metadata": {},
   "source": [
    "More about the datasets:\n",
    "- [Automated Traffic Volume Counts](https://data.cityofnewyork.us/Transportation/Automated-Traffic-Volume-Counts/7ym2-wayt)\n",
    "- [Annual Average Daily Traffic (AADT)](https://data.ny.gov/Transportation/Annual-Average-Daily-Traffic-AADT-Beginning-1977/6amx-2pbv)"
   ]
  },
  {
   "cell_type": "code",
   "execution_count": 108,
   "metadata": {},
   "outputs": [],
   "source": [
    "def get_from_socrata(endpoint, sql='', fname=None):\n",
    "    (fpath, http_msg) = request.urlretrieve(endpoint+'?$query='+parse.quote(sql), filename=fname)\n",
    "    print(\"File Saved as \", fpath)\n",
    "    print(\"HTTP Message retrieved as below:\", '\\n', http_msg)"
   ]
  },
  {
   "cell_type": "code",
   "execution_count": 115,
   "metadata": {},
   "outputs": [
    {
     "name": "stdout",
     "output_type": "stream",
     "text": [
      "File Saved as  traffic-data/atr_1.csv\n",
      "HTTP Message retrieved as below: \n",
      " Server: nginx\n",
      "Date: Sun, 30 Jul 2023 09:15:55 GMT\n",
      "Content-Type: text/csv; charset=UTF-8\n",
      "Transfer-Encoding: chunked\n",
      "Connection: close\n",
      "Access-Control-Allow-Origin: *\n",
      "ETag: W/\"YnJhdm8uNDIyNjA5XzNfMzVjYVp5QW1ZT2lMdFFQREZOQVRXQ0steEtOc00---gziou91bHPOZG5TbcYKCqgFWEtUNGzw--gzip--gzip\"\n",
      "X-SODA2-Fields: [\"segmentid\",\"wktgeom\",\"boro\",\"street\"]\n",
      "X-SODA2-Types: [\"number\",\"text\",\"text\",\"text\"]\n",
      "X-SODA2-Data-Out-Of-Date: false\n",
      "X-SODA2-Truth-Last-Modified: Thu, 29 Dec 2022 21:13:19 GMT\n",
      "X-SODA2-Secondary-Last-Modified: Thu, 29 Dec 2022 21:13:19 GMT\n",
      "Last-Modified: Thu, 29 Dec 2022 21:13:19 GMT\n",
      "Vary: Accept-Encoding\n",
      "Age: 10\n",
      "X-Socrata-Region: aws-us-east-1-fedramp-prod\n",
      "Strict-Transport-Security: max-age=31536000; includeSubDomains\n",
      "X-Socrata-RequestId: 4dbc8c37939ac42ae2df56b2629cf9db\n",
      "\n",
      "\n"
     ]
    }
   ],
   "source": [
    "# get the automated traffic count dataset\n",
    "endpoint = 'https://data.cityofnewyork.us/resource/7ym2-wayt.csv'\n",
    "sql = 'select distinct segmentid, wktgeom, boro, street \\\n",
    "        where yr = 2015 \\\n",
    "        group by segmentid, wktgeom, boro, street \\\n",
    "        order by segmentid \\\n",
    "        limit 1000'\n",
    "get_from_socrata(endpoint, sql=sql, fname=\"traffic-data/atr_1.csv\")        "
   ]
  },
  {
   "cell_type": "code",
   "execution_count": 127,
   "metadata": {},
   "outputs": [
    {
     "name": "stdout",
     "output_type": "stream",
     "text": [
      "b'{\\n  \"id\" : \"7ym2-wayt\",\\n  \"name\" : \"Automated Traffic Volume Counts\",\\n  \"attribution\" : null,\\n  \"attributionLink\" : null,\\n  \"category\" : \"Transportation\",\\n  \"createdAt\" : \"2021-08-31T20:38:52+0000\",\\n  \"dataUpdatedAt\" : \"2022-12-29T21:47:17+0000\",\\n  \"dataUri\" : \"https://data.cityofnewyork.us/resource/7ym2-wayt\",\\n  \"description\" : \"New York City Department of Transportation (NYC DOT) uses Automated Traffic Recorders (ATR) to collect traffic sample volume counts at bridge crossings and roadways.These counts do not cover the entire year, and the number of days counted per location may vary from year to year.\",\\n  \"domain\" : \"data.cityofnewyork.us\",\\n  \"externalId\" : null,\\n  \"hideFromCatalog\" : false,\\n  \"hideFromDataJson\" : false,\\n  \"license\" : null,\\n  \"metadataUpdatedAt\" : \"2023-01-20T22:00:26+0000\",\\n  \"provenance\" : \"OFFICIAL\",\\n  \"updatedAt\" : \"2023-01-20T22:00:26+0000\",\\n  \"webUri\" : \"https://data.cityofnewyork.us/d/7ym2-wayt\",\\n  \"approvals\" : [ {\\n    \"reviewedAt\" : 1633527967,\\n    \"reviewedAutomatically\" : true,\\n    \"state\" : \"approved\",\\n    \"submissionId\" : 4092548,\\n    \"submissionObject\" : \"public_audience_request\",\\n    \"submissionOutcome\" : \"change_audience\",\\n    \"submittedAt\" : 1633527967,\\n    \"targetAudience\" : \"public\",\\n    \"workflowId\" : 2285,\\n    \"submissionDetails\" : {\\n      \"permissionType\" : \"READ\"\\n    },\\n    \"submissionOutcomeApplication\" : {\\n      \"endedAt\" : 1633527967,\\n      \"failureCount\" : 0,\\n      \"startedAt\" : 1633527967,\\n      \"status\" : \"success\"\\n    },\\n    \"submitter\" : {\\n      \"id\" : \"d5dp-fses\",\\n      \"displayName\" : \"afinkel\"\\n    }\\n  } ],\\n  \"customFields\" : {\\n    \"Update\" : {\\n      \"Automation\" : \"No\",\\n      \"Date Made Public\" : \"10/6/2021\",\\n      \"Update Frequency\" : \"Annually\"\\n    },\\n    \"Dataset Information\" : {\\n      \"Agency\" : \"Department of Transportation (DOT)\"\\n    }\\n  },\\n  \"tags\" : [ \"volume\", \"count\", \"traffic\", \"screenline\", \"bridges\", \"roadway\", \"atr\" ]\\n}\\n'\n"
     ]
    }
   ],
   "source": [
    "# get the metadata for RAT dataset\n",
    "endpoint = 'https://data.cityofnewyork.us/api/views/metadata/v1/7ym2-wayt'\n",
    "with request.urlopen(endpoint) as meta:\n",
    "    k = meta.read()\n",
    "print(k)"
   ]
  },
  {
   "cell_type": "code",
   "execution_count": 60,
   "metadata": {},
   "outputs": [
    {
     "name": "stdout",
     "output_type": "stream",
     "text": [
      "\n",
      "File Saved as  traffic-data/aadt_1.csv\n",
      "HTTP Message retrieved as below: \n",
      " Server: nginx\n",
      "Date: Sun, 30 Jul 2023 07:05:50 GMT\n",
      "Content-Type: text/csv; charset=UTF-8\n",
      "Transfer-Encoding: chunked\n",
      "Connection: close\n",
      "Access-Control-Allow-Origin: *\n",
      "ETag: W/\"YWxwaGEuODE0OV81XzExNjN5YVFEaF9mNFo5V2pJQVdtWVpsdWJwTDl0bw---gzik2U8v-OjSY3JdH8KXe7w92uiHLX--gzip--gzip\"\n",
      "X-SODA2-Fields: [\"aadt_year\",\"station_id\",\"county\",\"signing\",\"state_route\",\"county_road\",\"road_name\",\"beginning_description\",\"ending_description\",\"municipality\",\"length\",\"fc\",\"ramp\",\"bridge\",\"rr_xing\",\"oneway\",\"count\"]\n",
      "X-SODA2-Types: [\"text\",\"number\",\"text\",\"text\",\"text\",\"text\",\"text\",\"text\",\"text\",\"text\",\"number\",\"number\",\"text\",\"text\",\"text\",\"text\",\"number\"]\n",
      "X-SODA2-Data-Out-Of-Date: false\n",
      "X-SODA2-Truth-Last-Modified: Tue, 04 Feb 2020 22:07:45 GMT\n",
      "X-SODA2-Secondary-Last-Modified: Tue, 04 Feb 2020 22:07:45 GMT\n",
      "Last-Modified: Tue, 04 Feb 2020 22:07:45 GMT\n",
      "Vary: Accept-Encoding\n",
      "Age: 0\n",
      "X-Socrata-Region: aws-us-east-1-fedramp-prod\n",
      "Strict-Transport-Security: max-age=31536000; includeSubDomains\n",
      "X-Socrata-RequestId: 167bb0edd3a1f799ca2b3c9dd9621383\n",
      "\n",
      "\n"
     ]
    }
   ],
   "source": [
    "# get the AADT dataset\n",
    "endpoint = \"https://data.ny.gov/resource/6amx-2pbv.csv\"\n",
    "sql = 'select * \\\n",
    "    where aadt_year = \"2015\" and county in (\"Queens\", \"Kings\", \"Richmond\", \"Bronx\", \"New York\")  and count is not NULL\\\n",
    "    limit 10000'\n",
    "get_from_socrata(endpoint, sql = sql, fname = \"traffic-data/aadt_1.csv\")"
   ]
  },
  {
   "cell_type": "markdown",
   "metadata": {},
   "source": [
    "# Import ATR Data"
   ]
  },
  {
   "cell_type": "code",
   "execution_count": 116,
   "metadata": {},
   "outputs": [
    {
     "name": "stdout",
     "output_type": "stream",
     "text": [
      "<class 'pandas.core.frame.DataFrame'>\n",
      "RangeIndex: 1000 entries, 0 to 999\n",
      "Data columns (total 4 columns):\n",
      " #   Column     Non-Null Count  Dtype \n",
      "---  ------     --------------  ----- \n",
      " 0   segmentid  1000 non-null   int64 \n",
      " 1   wktgeom    1000 non-null   object\n",
      " 2   boro       1000 non-null   object\n",
      " 3   street     1000 non-null   object\n",
      "dtypes: int64(1), object(3)\n",
      "memory usage: 31.4+ KB\n",
      "None\n"
     ]
    }
   ],
   "source": [
    "atr = pd.read_csv(\"traffic-data/atr_1.csv\")\n",
    "print(atr.info())"
   ]
  },
  {
   "cell_type": "code",
   "execution_count": 118,
   "metadata": {},
   "outputs": [
    {
     "data": {
      "text/html": [
       "<div>\n",
       "<style scoped>\n",
       "    .dataframe tbody tr th:only-of-type {\n",
       "        vertical-align: middle;\n",
       "    }\n",
       "\n",
       "    .dataframe tbody tr th {\n",
       "        vertical-align: top;\n",
       "    }\n",
       "\n",
       "    .dataframe thead th {\n",
       "        text-align: right;\n",
       "    }\n",
       "</style>\n",
       "<table border=\"1\" class=\"dataframe\">\n",
       "  <thead>\n",
       "    <tr style=\"text-align: right;\">\n",
       "      <th></th>\n",
       "      <th>segmentid</th>\n",
       "      <th>wktgeom</th>\n",
       "      <th>boro</th>\n",
       "      <th>street</th>\n",
       "    </tr>\n",
       "  </thead>\n",
       "  <tbody>\n",
       "    <tr>\n",
       "      <th>995</th>\n",
       "      <td>59033</td>\n",
       "      <td>POINT (1043490.2197884223 182400.34418568562)</td>\n",
       "      <td>Queens</td>\n",
       "      <td>NORTH CONDUIT AVENUE</td>\n",
       "    </tr>\n",
       "    <tr>\n",
       "      <th>996</th>\n",
       "      <td>59034</td>\n",
       "      <td>POINT (1043359.1297855886 182448.4068133)</td>\n",
       "      <td>Queens</td>\n",
       "      <td>BAISLEY BOULEVARD SOUTH</td>\n",
       "    </tr>\n",
       "    <tr>\n",
       "      <th>997</th>\n",
       "      <td>59057</td>\n",
       "      <td>POINT (1043569.0341953558 183600.40809464533)</td>\n",
       "      <td>Queens</td>\n",
       "      <td>BAISLEY BOULEVARD SOUTH</td>\n",
       "    </tr>\n",
       "    <tr>\n",
       "      <th>998</th>\n",
       "      <td>59237</td>\n",
       "      <td>POINT (1044503.6677697763 188487.0459776001)</td>\n",
       "      <td>Queens</td>\n",
       "      <td>GUY R BREWER BOULEVARD</td>\n",
       "    </tr>\n",
       "    <tr>\n",
       "      <th>999</th>\n",
       "      <td>59355</td>\n",
       "      <td>POINT (1045385.7257368852 186558.56922030088)</td>\n",
       "      <td>Queens</td>\n",
       "      <td>GUY R BREWER BOULEVARD</td>\n",
       "    </tr>\n",
       "  </tbody>\n",
       "</table>\n",
       "</div>"
      ],
      "text/plain": [
       "     segmentid                                        wktgeom    boro   \n",
       "995      59033  POINT (1043490.2197884223 182400.34418568562)  Queens  \\\n",
       "996      59034      POINT (1043359.1297855886 182448.4068133)  Queens   \n",
       "997      59057  POINT (1043569.0341953558 183600.40809464533)  Queens   \n",
       "998      59237   POINT (1044503.6677697763 188487.0459776001)  Queens   \n",
       "999      59355  POINT (1045385.7257368852 186558.56922030088)  Queens   \n",
       "\n",
       "                      street  \n",
       "995     NORTH CONDUIT AVENUE  \n",
       "996  BAISLEY BOULEVARD SOUTH  \n",
       "997  BAISLEY BOULEVARD SOUTH  \n",
       "998   GUY R BREWER BOULEVARD  \n",
       "999   GUY R BREWER BOULEVARD  "
      ]
     },
     "execution_count": 118,
     "metadata": {},
     "output_type": "execute_result"
    }
   ],
   "source": [
    "atr.tail()"
   ]
  },
  {
   "cell_type": "markdown",
   "metadata": {},
   "source": [
    "# Import  AADT Data"
   ]
  },
  {
   "cell_type": "code",
   "execution_count": 61,
   "metadata": {},
   "outputs": [
    {
     "name": "stdout",
     "output_type": "stream",
     "text": [
      "<class 'pandas.core.frame.DataFrame'>\n",
      "RangeIndex: 1697 entries, 0 to 1696\n",
      "Data columns (total 17 columns):\n",
      " #   Column                 Non-Null Count  Dtype  \n",
      "---  ------                 --------------  -----  \n",
      " 0   aadt_year              1697 non-null   int64  \n",
      " 1   station_id             1697 non-null   int64  \n",
      " 2   county                 1697 non-null   object \n",
      " 3   signing                32 non-null     object \n",
      " 4   state_route            40 non-null     object \n",
      " 5   county_road            0 non-null      float64\n",
      " 6   road_name              1696 non-null   object \n",
      " 7   beginning_description  1696 non-null   object \n",
      " 8   ending_description     1695 non-null   object \n",
      " 9   municipality           1537 non-null   object \n",
      " 10  length                 1697 non-null   int64  \n",
      " 11  fc                     1697 non-null   int64  \n",
      " 12  ramp                   101 non-null    object \n",
      " 13  bridge                 90 non-null     object \n",
      " 14  rr_xing                1 non-null      object \n",
      " 15  oneway                 764 non-null    object \n",
      " 16  count                  1697 non-null   float64\n",
      "dtypes: float64(2), int64(4), object(11)\n",
      "memory usage: 225.5+ KB\n",
      "None\n",
      "   aadt_year  station_id county     signing state_route  county_road   \n",
      "0       2015       10004  Bronx          US           1          NaN  \\\n",
      "1       2015       10009  Bronx          US           1          NaN   \n",
      "2       2015       10012  Bronx          US           9          NaN   \n",
      "3       2015       10014  Bronx          NY          9A          NaN   \n",
      "4       2015       10043  Bronx  Interstate         278          NaN   \n",
      "\n",
      "         road_name         beginning_description   \n",
      "0      WEBSTER AVE  END I-95/US1 OLAP WEBSTER AV  \\\n",
      "1        BOSTON RD             RT 22 PROVOST AVE   \n",
      "2         BROADWAY      START 9/9A OLAP H.H. PKY   \n",
      "3  HENRY HUDSON PK              NY/Bronx Co Line   \n",
      "4  Robert F. Kenne              NY/Bronx Co Line   \n",
      "\n",
      "             ending_description municipality  length  fc ramp bridge rr_xing   \n",
      "0                  E FORDHAM RD        Bronx     151  14  NaN    NaN     NaN  \\\n",
      "1            Bronx/West Co Line        Bronx      51  14  NaN      Y     NaN   \n",
      "2            Bronx/West Co Line        Bronx      80  14  NaN    NaN     NaN   \n",
      "3            RIVERDALE AVE OVER        Bronx     104  12  NaN      Y     NaN   \n",
      "4  I-87 MAJOR DEEGAN EXPWY EXIT        Bronx      21  11  NaN      Y     NaN   \n",
      "\n",
      "  oneway    count  \n",
      "0    NaN  17188.0  \n",
      "1    NaN  22471.0  \n",
      "2    NaN  11876.0  \n",
      "3    NaN  63544.0  \n",
      "4    NaN  84220.0  \n"
     ]
    }
   ],
   "source": [
    "traffic = pd.read_csv(\"traffic-data/aadt_1.csv\")\n",
    "print(traffic.info())\n",
    "print(traffic.head())"
   ]
  },
  {
   "cell_type": "code",
   "execution_count": 62,
   "metadata": {},
   "outputs": [
    {
     "data": {
      "text/html": [
       "<div>\n",
       "<style scoped>\n",
       "    .dataframe tbody tr th:only-of-type {\n",
       "        vertical-align: middle;\n",
       "    }\n",
       "\n",
       "    .dataframe tbody tr th {\n",
       "        vertical-align: top;\n",
       "    }\n",
       "\n",
       "    .dataframe thead th {\n",
       "        text-align: right;\n",
       "    }\n",
       "</style>\n",
       "<table border=\"1\" class=\"dataframe\">\n",
       "  <thead>\n",
       "    <tr style=\"text-align: right;\">\n",
       "      <th></th>\n",
       "      <th>aadt_year</th>\n",
       "      <th>station_id</th>\n",
       "      <th>county</th>\n",
       "      <th>signing</th>\n",
       "      <th>state_route</th>\n",
       "      <th>county_road</th>\n",
       "      <th>road_name</th>\n",
       "      <th>beginning_description</th>\n",
       "      <th>ending_description</th>\n",
       "      <th>municipality</th>\n",
       "      <th>length</th>\n",
       "      <th>fc</th>\n",
       "      <th>ramp</th>\n",
       "      <th>bridge</th>\n",
       "      <th>rr_xing</th>\n",
       "      <th>oneway</th>\n",
       "      <th>count</th>\n",
       "    </tr>\n",
       "  </thead>\n",
       "  <tbody>\n",
       "    <tr>\n",
       "      <th>0</th>\n",
       "      <td>2015</td>\n",
       "      <td>10004</td>\n",
       "      <td>Bronx</td>\n",
       "      <td>US</td>\n",
       "      <td>1</td>\n",
       "      <td>NaN</td>\n",
       "      <td>WEBSTER AVE</td>\n",
       "      <td>END I-95/US1 OLAP WEBSTER AV</td>\n",
       "      <td>E FORDHAM RD</td>\n",
       "      <td>Bronx</td>\n",
       "      <td>151</td>\n",
       "      <td>14</td>\n",
       "      <td>NaN</td>\n",
       "      <td>NaN</td>\n",
       "      <td>NaN</td>\n",
       "      <td>NaN</td>\n",
       "      <td>17188.0</td>\n",
       "    </tr>\n",
       "    <tr>\n",
       "      <th>1</th>\n",
       "      <td>2015</td>\n",
       "      <td>10009</td>\n",
       "      <td>Bronx</td>\n",
       "      <td>US</td>\n",
       "      <td>1</td>\n",
       "      <td>NaN</td>\n",
       "      <td>BOSTON RD</td>\n",
       "      <td>RT 22 PROVOST AVE</td>\n",
       "      <td>Bronx/West Co Line</td>\n",
       "      <td>Bronx</td>\n",
       "      <td>51</td>\n",
       "      <td>14</td>\n",
       "      <td>NaN</td>\n",
       "      <td>Y</td>\n",
       "      <td>NaN</td>\n",
       "      <td>NaN</td>\n",
       "      <td>22471.0</td>\n",
       "    </tr>\n",
       "    <tr>\n",
       "      <th>2</th>\n",
       "      <td>2015</td>\n",
       "      <td>10012</td>\n",
       "      <td>Bronx</td>\n",
       "      <td>US</td>\n",
       "      <td>9</td>\n",
       "      <td>NaN</td>\n",
       "      <td>BROADWAY</td>\n",
       "      <td>START 9/9A OLAP H.H. PKY</td>\n",
       "      <td>Bronx/West Co Line</td>\n",
       "      <td>Bronx</td>\n",
       "      <td>80</td>\n",
       "      <td>14</td>\n",
       "      <td>NaN</td>\n",
       "      <td>NaN</td>\n",
       "      <td>NaN</td>\n",
       "      <td>NaN</td>\n",
       "      <td>11876.0</td>\n",
       "    </tr>\n",
       "    <tr>\n",
       "      <th>3</th>\n",
       "      <td>2015</td>\n",
       "      <td>10014</td>\n",
       "      <td>Bronx</td>\n",
       "      <td>NY</td>\n",
       "      <td>9A</td>\n",
       "      <td>NaN</td>\n",
       "      <td>HENRY HUDSON PK</td>\n",
       "      <td>NY/Bronx Co Line</td>\n",
       "      <td>RIVERDALE AVE OVER</td>\n",
       "      <td>Bronx</td>\n",
       "      <td>104</td>\n",
       "      <td>12</td>\n",
       "      <td>NaN</td>\n",
       "      <td>Y</td>\n",
       "      <td>NaN</td>\n",
       "      <td>NaN</td>\n",
       "      <td>63544.0</td>\n",
       "    </tr>\n",
       "    <tr>\n",
       "      <th>4</th>\n",
       "      <td>2015</td>\n",
       "      <td>10043</td>\n",
       "      <td>Bronx</td>\n",
       "      <td>Interstate</td>\n",
       "      <td>278</td>\n",
       "      <td>NaN</td>\n",
       "      <td>Robert F. Kenne</td>\n",
       "      <td>NY/Bronx Co Line</td>\n",
       "      <td>I-87 MAJOR DEEGAN EXPWY EXIT</td>\n",
       "      <td>Bronx</td>\n",
       "      <td>21</td>\n",
       "      <td>11</td>\n",
       "      <td>NaN</td>\n",
       "      <td>Y</td>\n",
       "      <td>NaN</td>\n",
       "      <td>NaN</td>\n",
       "      <td>84220.0</td>\n",
       "    </tr>\n",
       "  </tbody>\n",
       "</table>\n",
       "</div>"
      ],
      "text/plain": [
       "   aadt_year  station_id county     signing state_route  county_road   \n",
       "0       2015       10004  Bronx          US           1          NaN  \\\n",
       "1       2015       10009  Bronx          US           1          NaN   \n",
       "2       2015       10012  Bronx          US           9          NaN   \n",
       "3       2015       10014  Bronx          NY          9A          NaN   \n",
       "4       2015       10043  Bronx  Interstate         278          NaN   \n",
       "\n",
       "         road_name         beginning_description   \n",
       "0      WEBSTER AVE  END I-95/US1 OLAP WEBSTER AV  \\\n",
       "1        BOSTON RD             RT 22 PROVOST AVE   \n",
       "2         BROADWAY      START 9/9A OLAP H.H. PKY   \n",
       "3  HENRY HUDSON PK              NY/Bronx Co Line   \n",
       "4  Robert F. Kenne              NY/Bronx Co Line   \n",
       "\n",
       "             ending_description municipality  length  fc ramp bridge rr_xing   \n",
       "0                  E FORDHAM RD        Bronx     151  14  NaN    NaN     NaN  \\\n",
       "1            Bronx/West Co Line        Bronx      51  14  NaN      Y     NaN   \n",
       "2            Bronx/West Co Line        Bronx      80  14  NaN    NaN     NaN   \n",
       "3            RIVERDALE AVE OVER        Bronx     104  12  NaN      Y     NaN   \n",
       "4  I-87 MAJOR DEEGAN EXPWY EXIT        Bronx      21  11  NaN      Y     NaN   \n",
       "\n",
       "  oneway    count  \n",
       "0    NaN  17188.0  \n",
       "1    NaN  22471.0  \n",
       "2    NaN  11876.0  \n",
       "3    NaN  63544.0  \n",
       "4    NaN  84220.0  "
      ]
     },
     "execution_count": 62,
     "metadata": {},
     "output_type": "execute_result"
    }
   ],
   "source": [
    "traffic.head()"
   ]
  },
  {
   "cell_type": "code",
   "execution_count": 41,
   "metadata": {},
   "outputs": [
    {
     "name": "stdout",
     "output_type": "stream",
     "text": [
      "Queens is in list\n",
      "Kings is in list\n",
      "Richmond is in list\n",
      "Bronx is in list\n",
      "New York is in list\n"
     ]
    }
   ],
   "source": [
    "for county in [\"Queens\", \"Kings\", \"Richmond\", \"Bronx\", \"New York\"]:\n",
    "    print(f\"{county} is {'not ' if county not in traffic.county.values else ''}in list\")"
   ]
  },
  {
   "cell_type": "code",
   "execution_count": 59,
   "metadata": {},
   "outputs": [
    {
     "data": {
      "text/plain": [
       "county\n",
       "Queens      657\n",
       "Kings       397\n",
       "New York    291\n",
       "Bronx       192\n",
       "Richmond    160\n",
       "Name: count, dtype: int64"
      ]
     },
     "execution_count": 59,
     "metadata": {},
     "output_type": "execute_result"
    }
   ],
   "source": [
    "traffic[~traffic[\"count\"].isna()].value_counts(\"county\")"
   ]
  },
  {
   "cell_type": "code",
   "execution_count": 96,
   "metadata": {},
   "outputs": [
    {
     "data": {
      "text/html": [
       "<div>\n",
       "<style scoped>\n",
       "    .dataframe tbody tr th:only-of-type {\n",
       "        vertical-align: middle;\n",
       "    }\n",
       "\n",
       "    .dataframe tbody tr th {\n",
       "        vertical-align: top;\n",
       "    }\n",
       "\n",
       "    .dataframe thead th {\n",
       "        text-align: right;\n",
       "    }\n",
       "</style>\n",
       "<table border=\"1\" class=\"dataframe\">\n",
       "  <thead>\n",
       "    <tr style=\"text-align: right;\">\n",
       "      <th></th>\n",
       "      <th>aadt_year</th>\n",
       "      <th>station_id</th>\n",
       "      <th>county</th>\n",
       "      <th>signing</th>\n",
       "      <th>state_route</th>\n",
       "      <th>county_road</th>\n",
       "      <th>road_name</th>\n",
       "      <th>beginning_description</th>\n",
       "      <th>ending_description</th>\n",
       "      <th>municipality</th>\n",
       "      <th>length</th>\n",
       "      <th>fc</th>\n",
       "      <th>ramp</th>\n",
       "      <th>bridge</th>\n",
       "      <th>rr_xing</th>\n",
       "      <th>oneway</th>\n",
       "      <th>count</th>\n",
       "    </tr>\n",
       "  </thead>\n",
       "  <tbody>\n",
       "    <tr>\n",
       "      <th>971</th>\n",
       "      <td>2015</td>\n",
       "      <td>53096</td>\n",
       "      <td>Queens</td>\n",
       "      <td>NaN</td>\n",
       "      <td>NaN</td>\n",
       "      <td>NaN</td>\n",
       "      <td>907M at Exit 9</td>\n",
       "      <td>907M WB (OFF)</td>\n",
       "      <td>NY25A WB (ON)</td>\n",
       "      <td>Queens</td>\n",
       "      <td>29</td>\n",
       "      <td>12</td>\n",
       "      <td>Y</td>\n",
       "      <td>Y</td>\n",
       "      <td>NaN</td>\n",
       "      <td>Y</td>\n",
       "      <td>11316.0</td>\n",
       "    </tr>\n",
       "    <tr>\n",
       "      <th>993</th>\n",
       "      <td>2015</td>\n",
       "      <td>53139</td>\n",
       "      <td>Queens</td>\n",
       "      <td>NaN</td>\n",
       "      <td>NaN</td>\n",
       "      <td>NaN</td>\n",
       "      <td>Ny878 at JFK Ex</td>\n",
       "      <td>NY878 EB (OFF)</td>\n",
       "      <td>JFK EXPR NB (ON)</td>\n",
       "      <td>Queens</td>\n",
       "      <td>44</td>\n",
       "      <td>11</td>\n",
       "      <td>Y</td>\n",
       "      <td>Y</td>\n",
       "      <td>NaN</td>\n",
       "      <td>Y</td>\n",
       "      <td>3743.0</td>\n",
       "    </tr>\n",
       "    <tr>\n",
       "      <th>1006</th>\n",
       "      <td>2015</td>\n",
       "      <td>53157</td>\n",
       "      <td>Queens</td>\n",
       "      <td>NaN</td>\n",
       "      <td>NaN</td>\n",
       "      <td>NaN</td>\n",
       "      <td>I278 Exit 40</td>\n",
       "      <td>I278 WB (OFF)</td>\n",
       "      <td>BROADWAY</td>\n",
       "      <td>Queens</td>\n",
       "      <td>16</td>\n",
       "      <td>11</td>\n",
       "      <td>Y</td>\n",
       "      <td>Y</td>\n",
       "      <td>NaN</td>\n",
       "      <td>Y</td>\n",
       "      <td>21666.0</td>\n",
       "    </tr>\n",
       "    <tr>\n",
       "      <th>1010</th>\n",
       "      <td>2015</td>\n",
       "      <td>53163</td>\n",
       "      <td>Queens</td>\n",
       "      <td>NaN</td>\n",
       "      <td>NaN</td>\n",
       "      <td>NaN</td>\n",
       "      <td>I278 Exit 42 &amp;</td>\n",
       "      <td>30TH AVE</td>\n",
       "      <td>I278 WB (ON)</td>\n",
       "      <td>Queens</td>\n",
       "      <td>21</td>\n",
       "      <td>11</td>\n",
       "      <td>Y</td>\n",
       "      <td>Y</td>\n",
       "      <td>NaN</td>\n",
       "      <td>Y</td>\n",
       "      <td>6651.0</td>\n",
       "    </tr>\n",
       "    <tr>\n",
       "      <th>1028</th>\n",
       "      <td>2015</td>\n",
       "      <td>53190</td>\n",
       "      <td>Queens</td>\n",
       "      <td>NaN</td>\n",
       "      <td>NaN</td>\n",
       "      <td>NaN</td>\n",
       "      <td>I678 at JFK Air</td>\n",
       "      <td>I678 SB (OFF)</td>\n",
       "      <td>JFK AIRPORT</td>\n",
       "      <td>Queens</td>\n",
       "      <td>44</td>\n",
       "      <td>11</td>\n",
       "      <td>Y</td>\n",
       "      <td>Y</td>\n",
       "      <td>NaN</td>\n",
       "      <td>Y</td>\n",
       "      <td>21646.0</td>\n",
       "    </tr>\n",
       "    <tr>\n",
       "      <th>1030</th>\n",
       "      <td>2015</td>\n",
       "      <td>53193</td>\n",
       "      <td>Queens</td>\n",
       "      <td>NaN</td>\n",
       "      <td>NaN</td>\n",
       "      <td>NaN</td>\n",
       "      <td>I678 at JFK Air</td>\n",
       "      <td>JFK AIRPORT</td>\n",
       "      <td>I678 NB (ON)</td>\n",
       "      <td>Queens</td>\n",
       "      <td>20</td>\n",
       "      <td>11</td>\n",
       "      <td>Y</td>\n",
       "      <td>Y</td>\n",
       "      <td>NaN</td>\n",
       "      <td>Y</td>\n",
       "      <td>21602.0</td>\n",
       "    </tr>\n",
       "    <tr>\n",
       "      <th>1040</th>\n",
       "      <td>2015</td>\n",
       "      <td>53207</td>\n",
       "      <td>Queens</td>\n",
       "      <td>NaN</td>\n",
       "      <td>NaN</td>\n",
       "      <td>NaN</td>\n",
       "      <td>I678 Exit 1 NY8</td>\n",
       "      <td>FROM I678 NB&amp;SB OFF</td>\n",
       "      <td>907D EB (ON)</td>\n",
       "      <td>Queens</td>\n",
       "      <td>57</td>\n",
       "      <td>11</td>\n",
       "      <td>Y</td>\n",
       "      <td>Y</td>\n",
       "      <td>NaN</td>\n",
       "      <td>Y</td>\n",
       "      <td>21830.0</td>\n",
       "    </tr>\n",
       "  </tbody>\n",
       "</table>\n",
       "</div>"
      ],
      "text/plain": [
       "      aadt_year  station_id  county signing state_route  county_road   \n",
       "971        2015       53096  Queens     NaN         NaN          NaN  \\\n",
       "993        2015       53139  Queens     NaN         NaN          NaN   \n",
       "1006       2015       53157  Queens     NaN         NaN          NaN   \n",
       "1010       2015       53163  Queens     NaN         NaN          NaN   \n",
       "1028       2015       53190  Queens     NaN         NaN          NaN   \n",
       "1030       2015       53193  Queens     NaN         NaN          NaN   \n",
       "1040       2015       53207  Queens     NaN         NaN          NaN   \n",
       "\n",
       "            road_name beginning_description ending_description municipality   \n",
       "971    907M at Exit 9         907M WB (OFF)      NY25A WB (ON)       Queens  \\\n",
       "993   Ny878 at JFK Ex        NY878 EB (OFF)   JFK EXPR NB (ON)       Queens   \n",
       "1006     I278 Exit 40         I278 WB (OFF)           BROADWAY       Queens   \n",
       "1010   I278 Exit 42 &              30TH AVE       I278 WB (ON)       Queens   \n",
       "1028  I678 at JFK Air         I678 SB (OFF)        JFK AIRPORT       Queens   \n",
       "1030  I678 at JFK Air           JFK AIRPORT       I678 NB (ON)       Queens   \n",
       "1040  I678 Exit 1 NY8   FROM I678 NB&SB OFF       907D EB (ON)       Queens   \n",
       "\n",
       "      length  fc ramp bridge rr_xing oneway    count  \n",
       "971       29  12    Y      Y     NaN      Y  11316.0  \n",
       "993       44  11    Y      Y     NaN      Y   3743.0  \n",
       "1006      16  11    Y      Y     NaN      Y  21666.0  \n",
       "1010      21  11    Y      Y     NaN      Y   6651.0  \n",
       "1028      44  11    Y      Y     NaN      Y  21646.0  \n",
       "1030      20  11    Y      Y     NaN      Y  21602.0  \n",
       "1040      57  11    Y      Y     NaN      Y  21830.0  "
      ]
     },
     "execution_count": 96,
     "metadata": {},
     "output_type": "execute_result"
    }
   ],
   "source": [
    "traffic.query('bridge == \"Y\" & ramp == \"Y\"')"
   ]
  },
  {
   "cell_type": "code",
   "execution_count": 72,
   "metadata": {},
   "outputs": [
    {
     "data": {
      "text/html": [
       "<div>\n",
       "<style scoped>\n",
       "    .dataframe tbody tr th:only-of-type {\n",
       "        vertical-align: middle;\n",
       "    }\n",
       "\n",
       "    .dataframe tbody tr th {\n",
       "        vertical-align: top;\n",
       "    }\n",
       "\n",
       "    .dataframe thead th {\n",
       "        text-align: right;\n",
       "    }\n",
       "</style>\n",
       "<table border=\"1\" class=\"dataframe\">\n",
       "  <thead>\n",
       "    <tr style=\"text-align: right;\">\n",
       "      <th></th>\n",
       "      <th>aadt_year</th>\n",
       "      <th>station_id</th>\n",
       "      <th>county_road</th>\n",
       "      <th>length</th>\n",
       "      <th>fc</th>\n",
       "      <th>count</th>\n",
       "    </tr>\n",
       "  </thead>\n",
       "  <tbody>\n",
       "    <tr>\n",
       "      <th>count</th>\n",
       "      <td>1697.0</td>\n",
       "      <td>1697.000000</td>\n",
       "      <td>0.0</td>\n",
       "      <td>1697.000000</td>\n",
       "      <td>1697.000000</td>\n",
       "      <td>1697.000000</td>\n",
       "    </tr>\n",
       "    <tr>\n",
       "      <th>mean</th>\n",
       "      <td>2015.0</td>\n",
       "      <td>41859.568061</td>\n",
       "      <td>NaN</td>\n",
       "      <td>33.919269</td>\n",
       "      <td>16.839717</td>\n",
       "      <td>5988.781968</td>\n",
       "    </tr>\n",
       "    <tr>\n",
       "      <th>std</th>\n",
       "      <td>0.0</td>\n",
       "      <td>16398.528293</td>\n",
       "      <td>NaN</td>\n",
       "      <td>36.055888</td>\n",
       "      <td>2.033389</td>\n",
       "      <td>15104.140014</td>\n",
       "    </tr>\n",
       "    <tr>\n",
       "      <th>min</th>\n",
       "      <td>2015.0</td>\n",
       "      <td>10004.000000</td>\n",
       "      <td>NaN</td>\n",
       "      <td>2.000000</td>\n",
       "      <td>11.000000</td>\n",
       "      <td>3.000000</td>\n",
       "    </tr>\n",
       "    <tr>\n",
       "      <th>25%</th>\n",
       "      <td>2015.0</td>\n",
       "      <td>24318.000000</td>\n",
       "      <td>NaN</td>\n",
       "      <td>12.000000</td>\n",
       "      <td>16.000000</td>\n",
       "      <td>910.000000</td>\n",
       "    </tr>\n",
       "    <tr>\n",
       "      <th>50%</th>\n",
       "      <td>2015.0</td>\n",
       "      <td>44286.000000</td>\n",
       "      <td>NaN</td>\n",
       "      <td>22.000000</td>\n",
       "      <td>17.000000</td>\n",
       "      <td>2205.000000</td>\n",
       "    </tr>\n",
       "    <tr>\n",
       "      <th>75%</th>\n",
       "      <td>2015.0</td>\n",
       "      <td>54389.000000</td>\n",
       "      <td>NaN</td>\n",
       "      <td>44.000000</td>\n",
       "      <td>19.000000</td>\n",
       "      <td>5907.000000</td>\n",
       "    </tr>\n",
       "    <tr>\n",
       "      <th>max</th>\n",
       "      <td>2015.0</td>\n",
       "      <td>65232.000000</td>\n",
       "      <td>NaN</td>\n",
       "      <td>495.000000</td>\n",
       "      <td>19.000000</td>\n",
       "      <td>276476.000000</td>\n",
       "    </tr>\n",
       "  </tbody>\n",
       "</table>\n",
       "</div>"
      ],
      "text/plain": [
       "       aadt_year    station_id  county_road       length           fc   \n",
       "count     1697.0   1697.000000          0.0  1697.000000  1697.000000  \\\n",
       "mean      2015.0  41859.568061          NaN    33.919269    16.839717   \n",
       "std          0.0  16398.528293          NaN    36.055888     2.033389   \n",
       "min       2015.0  10004.000000          NaN     2.000000    11.000000   \n",
       "25%       2015.0  24318.000000          NaN    12.000000    16.000000   \n",
       "50%       2015.0  44286.000000          NaN    22.000000    17.000000   \n",
       "75%       2015.0  54389.000000          NaN    44.000000    19.000000   \n",
       "max       2015.0  65232.000000          NaN   495.000000    19.000000   \n",
       "\n",
       "               count  \n",
       "count    1697.000000  \n",
       "mean     5988.781968  \n",
       "std     15104.140014  \n",
       "min         3.000000  \n",
       "25%       910.000000  \n",
       "50%      2205.000000  \n",
       "75%      5907.000000  \n",
       "max    276476.000000  "
      ]
     },
     "execution_count": 72,
     "metadata": {},
     "output_type": "execute_result"
    }
   ],
   "source": [
    "traffic.describe()"
   ]
  },
  {
   "cell_type": "code",
   "execution_count": 80,
   "metadata": {},
   "outputs": [
    {
     "data": {
      "text/plain": [
       "<Axes: ylabel='Frequency'>"
      ]
     },
     "execution_count": 80,
     "metadata": {},
     "output_type": "execute_result"
    },
    {
     "data": {
      "image/png": "[encoded data removed]",
      "text/plain": [
       "<Figure size 640x480 with 1 Axes>"
      ]
     },
     "metadata": {},
     "output_type": "display_data"
    }
   ],
   "source": [
    "traffic.query('length <= 100')[\"length\"].plot(kind = \"hist\")"
   ]
  },
  {
   "cell_type": "code",
   "execution_count": 74,
   "metadata": {},
   "outputs": [
    {
     "data": {
      "text/plain": [
       "<Axes: ylabel='Frequency'>"
      ]
     },
     "execution_count": 74,
     "metadata": {},
     "output_type": "execute_result"
    },
    {
     "data": {
      "image/png": "[encoded data removed]",
      "text/plain": [
       "<Figure size 640x480 with 1 Axes>"
      ]
     },
     "metadata": {},
     "output_type": "display_data"
    }
   ],
   "source": [
    "traffic.query('count <= 10000')[\"count\"].plot(kind = \"hist\")"
   ]
  },
  {
   "cell_type": "code",
   "execution_count": 77,
   "metadata": {},
   "outputs": [
    {
     "data": {
      "text/plain": [
       "<Axes: >"
      ]
     },
     "execution_count": 77,
     "metadata": {},
     "output_type": "execute_result"
    },
    {
     "data": {
      "image/png": "[encoded data removed]",
      "text/plain": [
       "<Figure size 640x480 with 1 Axes>"
      ]
     },
     "metadata": {},
     "output_type": "display_data"
    }
   ],
   "source": [
    "traffic.query('count <= 10000')[\"count\"].plot(kind = \"box\")"
   ]
  },
  {
   "cell_type": "markdown",
   "metadata": {},
   "source": [
    "# Data Cleaning"
   ]
  },
  {
   "cell_type": "markdown",
   "metadata": {},
   "source": [
    "## Convert SPC to Lat&Lon"
   ]
  },
  {
   "cell_type": "markdown",
   "metadata": {},
   "source": [
    "[Documentation for Convetor API](https://www.ngs.noaa.gov/web_services/ncat/spc-service.shtml)"
   ]
  },
  {
   "cell_type": "markdown",
   "metadata": {},
   "source": []
  }
 ],
 "metadata": {
  "kernelspec": {
   "display_name": ".venv",
   "language": "python",
   "name": "python3"
  },
  "language_info": {
   "codemirror_mode": {
    "name": "ipython",
    "version": 3
   },
   "file_extension": ".py",
   "mimetype": "text/x-python",
   "name": "python",
   "nbconvert_exporter": "python",
   "pygments_lexer": "ipython3",
   "version": "3.11.3"
  },
  "orig_nbformat": 4
 },
 "nbformat": 4,
 "nbformat_minor": 2
}
